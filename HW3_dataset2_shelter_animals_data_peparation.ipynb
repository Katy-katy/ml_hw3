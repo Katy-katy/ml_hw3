{
 "cells": [
  {
   "cell_type": "code",
   "execution_count": 48,
   "metadata": {},
   "outputs": [],
   "source": [
    "import pandas as pd\n",
    "from nltk.corpus import stopwords\n",
    "from nltk.tokenize import word_tokenize\n",
    "from nltk.stem import PorterStemmer\n",
    "from nltk.stem import WordNetLemmatizer\n",
    "from sklearn.model_selection import train_test_split\n",
    "from sklearn.model_selection import train_test_split\n",
    "from sklearn.feature_extraction.text import TfidfVectorizer\n",
    "import warnings\n",
    "warnings.filterwarnings('ignore')"
   ]
  },
  {
   "cell_type": "code",
   "execution_count": 49,
   "metadata": {},
   "outputs": [],
   "source": [
    "# kaggle competition https://www.kaggle.com/c/shelter-animal-outcomes/data"
   ]
  },
  {
   "cell_type": "code",
   "execution_count": 50,
   "metadata": {},
   "outputs": [],
   "source": [
    "# we will take train dataset from Kaggle and split it into train/ test (we cannot use test dataset from Kaggle\n",
    "# since it has no labels)\n",
    "all_data = pd.read_csv(\"../shelter-animal-outcomes/train.csv\")"
   ]
  },
  {
   "cell_type": "code",
   "execution_count": 51,
   "metadata": {},
   "outputs": [
    {
     "data": {
      "text/html": [
       "<div>\n",
       "<style scoped>\n",
       "    .dataframe tbody tr th:only-of-type {\n",
       "        vertical-align: middle;\n",
       "    }\n",
       "\n",
       "    .dataframe tbody tr th {\n",
       "        vertical-align: top;\n",
       "    }\n",
       "\n",
       "    .dataframe thead th {\n",
       "        text-align: right;\n",
       "    }\n",
       "</style>\n",
       "<table border=\"1\" class=\"dataframe\">\n",
       "  <thead>\n",
       "    <tr style=\"text-align: right;\">\n",
       "      <th></th>\n",
       "      <th>AnimalID</th>\n",
       "      <th>Name</th>\n",
       "      <th>DateTime</th>\n",
       "      <th>OutcomeType</th>\n",
       "      <th>OutcomeSubtype</th>\n",
       "      <th>AnimalType</th>\n",
       "      <th>SexuponOutcome</th>\n",
       "      <th>AgeuponOutcome</th>\n",
       "      <th>Breed</th>\n",
       "      <th>Color</th>\n",
       "    </tr>\n",
       "  </thead>\n",
       "  <tbody>\n",
       "    <tr>\n",
       "      <th>0</th>\n",
       "      <td>A671945</td>\n",
       "      <td>Hambone</td>\n",
       "      <td>2014-02-12 18:22:00</td>\n",
       "      <td>Return_to_owner</td>\n",
       "      <td>NaN</td>\n",
       "      <td>Dog</td>\n",
       "      <td>Neutered Male</td>\n",
       "      <td>1 year</td>\n",
       "      <td>Shetland Sheepdog Mix</td>\n",
       "      <td>Brown/White</td>\n",
       "    </tr>\n",
       "    <tr>\n",
       "      <th>1</th>\n",
       "      <td>A656520</td>\n",
       "      <td>Emily</td>\n",
       "      <td>2013-10-13 12:44:00</td>\n",
       "      <td>Euthanasia</td>\n",
       "      <td>Suffering</td>\n",
       "      <td>Cat</td>\n",
       "      <td>Spayed Female</td>\n",
       "      <td>1 year</td>\n",
       "      <td>Domestic Shorthair Mix</td>\n",
       "      <td>Cream Tabby</td>\n",
       "    </tr>\n",
       "    <tr>\n",
       "      <th>2</th>\n",
       "      <td>A686464</td>\n",
       "      <td>Pearce</td>\n",
       "      <td>2015-01-31 12:28:00</td>\n",
       "      <td>Adoption</td>\n",
       "      <td>Foster</td>\n",
       "      <td>Dog</td>\n",
       "      <td>Neutered Male</td>\n",
       "      <td>2 years</td>\n",
       "      <td>Pit Bull Mix</td>\n",
       "      <td>Blue/White</td>\n",
       "    </tr>\n",
       "    <tr>\n",
       "      <th>3</th>\n",
       "      <td>A683430</td>\n",
       "      <td>NaN</td>\n",
       "      <td>2014-07-11 19:09:00</td>\n",
       "      <td>Transfer</td>\n",
       "      <td>Partner</td>\n",
       "      <td>Cat</td>\n",
       "      <td>Intact Male</td>\n",
       "      <td>3 weeks</td>\n",
       "      <td>Domestic Shorthair Mix</td>\n",
       "      <td>Blue Cream</td>\n",
       "    </tr>\n",
       "    <tr>\n",
       "      <th>4</th>\n",
       "      <td>A667013</td>\n",
       "      <td>NaN</td>\n",
       "      <td>2013-11-15 12:52:00</td>\n",
       "      <td>Transfer</td>\n",
       "      <td>Partner</td>\n",
       "      <td>Dog</td>\n",
       "      <td>Neutered Male</td>\n",
       "      <td>2 years</td>\n",
       "      <td>Lhasa Apso/Miniature Poodle</td>\n",
       "      <td>Tan</td>\n",
       "    </tr>\n",
       "  </tbody>\n",
       "</table>\n",
       "</div>"
      ],
      "text/plain": [
       "  AnimalID     Name             DateTime      OutcomeType OutcomeSubtype  \\\n",
       "0  A671945  Hambone  2014-02-12 18:22:00  Return_to_owner            NaN   \n",
       "1  A656520    Emily  2013-10-13 12:44:00       Euthanasia      Suffering   \n",
       "2  A686464   Pearce  2015-01-31 12:28:00         Adoption         Foster   \n",
       "3  A683430      NaN  2014-07-11 19:09:00         Transfer        Partner   \n",
       "4  A667013      NaN  2013-11-15 12:52:00         Transfer        Partner   \n",
       "\n",
       "  AnimalType SexuponOutcome AgeuponOutcome                        Breed  \\\n",
       "0        Dog  Neutered Male         1 year        Shetland Sheepdog Mix   \n",
       "1        Cat  Spayed Female         1 year       Domestic Shorthair Mix   \n",
       "2        Dog  Neutered Male        2 years                 Pit Bull Mix   \n",
       "3        Cat    Intact Male        3 weeks       Domestic Shorthair Mix   \n",
       "4        Dog  Neutered Male        2 years  Lhasa Apso/Miniature Poodle   \n",
       "\n",
       "         Color  \n",
       "0  Brown/White  \n",
       "1  Cream Tabby  \n",
       "2   Blue/White  \n",
       "3   Blue Cream  \n",
       "4          Tan  "
      ]
     },
     "execution_count": 51,
     "metadata": {},
     "output_type": "execute_result"
    }
   ],
   "source": [
    "all_data.head()"
   ]
  },
  {
   "cell_type": "code",
   "execution_count": 52,
   "metadata": {},
   "outputs": [
    {
     "data": {
      "text/plain": [
       "(26729, 10)"
      ]
     },
     "execution_count": 52,
     "metadata": {},
     "output_type": "execute_result"
    }
   ],
   "source": [
    "all_data.shape"
   ]
  },
  {
   "cell_type": "code",
   "execution_count": 53,
   "metadata": {},
   "outputs": [
    {
     "data": {
      "text/plain": [
       "Adoption           10769\n",
       "Transfer            9422\n",
       "Return_to_owner     4786\n",
       "Euthanasia          1555\n",
       "Died                 197\n",
       "Name: OutcomeType, dtype: int64"
      ]
     },
     "execution_count": 53,
     "metadata": {},
     "output_type": "execute_result"
    }
   ],
   "source": [
    "all_data.OutcomeType.value_counts()"
   ]
  },
  {
   "cell_type": "code",
   "execution_count": 54,
   "metadata": {
    "scrolled": false
   },
   "outputs": [
    {
     "data": {
      "text/plain": [
       "AnimalID              0\n",
       "Name               7691\n",
       "DateTime              0\n",
       "OutcomeType           0\n",
       "OutcomeSubtype    13612\n",
       "AnimalType            0\n",
       "SexuponOutcome        1\n",
       "AgeuponOutcome       18\n",
       "Breed                 0\n",
       "Color                 0\n",
       "dtype: int64"
      ]
     },
     "execution_count": 54,
     "metadata": {},
     "output_type": "execute_result"
    }
   ],
   "source": [
    "all_data.isna().sum()"
   ]
  },
  {
   "cell_type": "code",
   "execution_count": 55,
   "metadata": {},
   "outputs": [],
   "source": [
    "all_data['SexuponOutcome'] =all_data['SexuponOutcome'].fillna(\"Neutered Male\")"
   ]
  },
  {
   "cell_type": "code",
   "execution_count": 56,
   "metadata": {},
   "outputs": [],
   "source": [
    "del all_data[\"AnimalID\"]\n",
    "del all_data[\"OutcomeSubtype\"]"
   ]
  },
  {
   "cell_type": "code",
   "execution_count": 57,
   "metadata": {},
   "outputs": [],
   "source": [
    "# make a column if the name is known or not\n",
    "all_data['Name'] =all_data['Name'].fillna(0)\n",
    "all_data.loc[all_data['Name'] != 0, \"Name\"] = 1\n",
    "\n",
    "all_data.loc[all_data[\"AnimalType\"]== \"Dog\", \"AnimalType\"] = 1\n",
    "all_data.loc[all_data[\"AnimalType\"]!= 1, \"AnimalType\"] = 0"
   ]
  },
  {
   "cell_type": "code",
   "execution_count": 58,
   "metadata": {},
   "outputs": [],
   "source": [
    "# Let's create \"Day_of_week\" and \"Hour\" columns:\n",
    "all_data['Hour'] = all_data.DateTime.map( lambda x: pd.to_datetime(x).hour )\n",
    "all_data['Day_of_Week'] = all_data.DateTime.map( lambda x: pd.to_datetime(x).dayofweek )"
   ]
  },
  {
   "cell_type": "code",
   "execution_count": 59,
   "metadata": {},
   "outputs": [
    {
     "data": {
      "text/plain": [
       "<matplotlib.axes._subplots.AxesSubplot at 0x1a27e53cf8>"
      ]
     },
     "execution_count": 59,
     "metadata": {},
     "output_type": "execute_result"
    },
    {
     "data": {
      "image/png": "[encoded data removed]",
      "text/plain": [
       "<Figure size 432x288 with 1 Axes>"
      ]
     },
     "metadata": {
      "needs_background": "light"
     },
     "output_type": "display_data"
    }
   ],
   "source": [
    "import seaborn as sns\n",
    "%matplotlib inline\n",
    "\n",
    "sns.countplot(data=all_data, x='Day_of_Week',hue=\"OutcomeType\", palette = \"Set3\")"
   ]
  },
  {
   "cell_type": "code",
   "execution_count": 60,
   "metadata": {},
   "outputs": [],
   "source": [
    "# \"5\" and \"6\" means \"Suturday\" and \"Sunday\". The animals are more likely adopted at Weekends! \n",
    "# Thus, I am replacing 5 and 6 by 1, and other numbers by 0\n",
    "all_data.loc[all_data[\"Day_of_Week\"]== 5, \"Day_of_Week\"] = 10\n",
    "all_data.loc[all_data[\"Day_of_Week\"]== 6, \"Day_of_Week\"] = 10\n",
    "all_data.loc[all_data[\"Day_of_Week\"]!= 10, \"Day_of_Week\"] = 0\n",
    "all_data.loc[all_data[\"Day_of_Week\"]== 10, \"Day_of_Week\"] = 1"
   ]
  },
  {
   "cell_type": "code",
   "execution_count": 61,
   "metadata": {},
   "outputs": [
    {
     "data": {
      "text/plain": [
       "<matplotlib.axes._subplots.AxesSubplot at 0x1a27e53c18>"
      ]
     },
     "execution_count": 61,
     "metadata": {},
     "output_type": "execute_result"
    },
    {
     "data": {
      "image/png": "[encoded data removed]",
      "text/plain": [
       "<Figure size 432x288 with 1 Axes>"
      ]
     },
     "metadata": {
      "needs_background": "light"
     },
     "output_type": "display_data"
    }
   ],
   "source": [
    "sns.countplot(data=all_data, x='Hour',hue=\"OutcomeType\", palette = \"Set3\")"
   ]
  },
  {
   "cell_type": "markdown",
   "metadata": {},
   "source": [
    "It is interesting! The animal are adopted more likely at 16-19 and 7-8; transfered at 0, 9, 12-15. Thus, I am going to create features: 16and19, 17and18, 7and8, 9, 0, 12and13, 14and15, other_time."
   ]
  },
  {
   "cell_type": "code",
   "execution_count": 62,
   "metadata": {},
   "outputs": [],
   "source": [
    "def day(x):\n",
    "    if x == 16 or x == 19:\n",
    "        x = \"16and19\"\n",
    "    elif x == 17 or x == 18:\n",
    "        x = \"17and18\"\n",
    "    elif x == 7 or x == 8:\n",
    "        x = \"7and8\"\n",
    "    elif x == 12 or x == 13:\n",
    "        x = \"12and13\"\n",
    "    elif x == 14 or x == 15:\n",
    "        x = \"14and15\"\n",
    "    elif x == 9:\n",
    "        x = \"9\"\n",
    "    elif x == 0:\n",
    "        x = \"0\"\n",
    "    else:\n",
    "        x = \"other_time\"\n",
    "    return x\n",
    "       \n",
    "all_data['Hour'] = all_data.Hour.apply(day)"
   ]
  },
  {
   "cell_type": "code",
   "execution_count": 63,
   "metadata": {},
   "outputs": [],
   "source": [
    "def age_as_float(x):\n",
    "    x = str(x)\n",
    "    x_list = x.split(\" \")\n",
    "    if len(x_list)==2:\n",
    "        if x_list[1] =='year': return 1.0\n",
    "        elif x_list[1] =='years': return float(x_list[0])\n",
    "        elif x_list[1] =='month': return float(x_list[0])/12\n",
    "        elif x_list[1] =='months': return float(x_list[0])/12\n",
    "        elif x_list[1] =='week': return float(x_list[0])\n",
    "        elif x_list[1] =='weeks': return float(x_list[0])/54\n",
    "        elif x_list[1] =='days': return float(x_list[0])/365\n",
    "        else: return 0\n",
    "    else:return 0\n",
    "\n",
    "all_data['AgeuponOutcome'] = all_data.AgeuponOutcome.apply(age_as_float)\n",
    "#now we have 0 age for the animals with undefined age. Let's replace 0 by mean age:\n",
    "all_data.loc[all_data['AgeuponOutcome']== 0, \"AgeuponOutcome\"] = all_data['AgeuponOutcome'].median()"
   ]
  },
  {
   "cell_type": "code",
   "execution_count": 64,
   "metadata": {},
   "outputs": [],
   "source": [
    "#I used tutorial from https://www.dataquest.io/learn\n",
    "def create_dummies(var):\n",
    "    var_unique = var.unique()\n",
    "    var_unique.sort()\n",
    "    dummy = pd.DataFrame()\n",
    "    for val in var_unique:\n",
    "    #for val in var_unique[:-1]:\n",
    "        # which columns are equal to our unique value\n",
    "        d = var == val\n",
    "        # make a new column with a dummy variable\n",
    "        dummy[var.name + \"_\" + str(val)] = d.astype(int)\n",
    "    return(dummy)\n",
    "\n",
    "sex_dummies = create_dummies(all_data[\"SexuponOutcome\"])\n",
    "data = pd.concat([all_data, sex_dummies], axis=1)\n",
    "del all_data[\"SexuponOutcome\"]\n",
    "\n",
    "hour = create_dummies(all_data[\"Hour\"])\n",
    "all_data = pd.concat([all_data, hour], axis=1)\n",
    "del all_data[\"Hour\"]"
   ]
  },
  {
   "cell_type": "code",
   "execution_count": 65,
   "metadata": {},
   "outputs": [],
   "source": [
    "items_counts = data['Breed'].value_counts()\n",
    "# we are going to work with breeds with count > 150. Also, I am going to add \"Boxer\" and \"Pit Bull\" to my list since this dogs can be agressive."
   ]
  },
  {
   "cell_type": "code",
   "execution_count": 66,
   "metadata": {},
   "outputs": [],
   "source": [
    "to_my_breads = all_data['Breed'].value_counts() > 150"
   ]
  },
  {
   "cell_type": "code",
   "execution_count": 67,
   "metadata": {},
   "outputs": [
    {
     "data": {
      "text/plain": [
       "Domestic Shorthair Mix       8810\n",
       "Pit Bull Mix                 1906\n",
       "Chihuahua Shorthair Mix      1766\n",
       "Labrador Retriever Mix       1363\n",
       "Domestic Medium Hair Mix      839\n",
       "German Shepherd Mix           575\n",
       "Domestic Longhair Mix         520\n",
       "Siamese Mix                   389\n",
       "Australian Cattle Dog Mix     367\n",
       "Dachshund Mix                 318\n",
       "Boxer Mix                     245\n",
       "Miniature Poodle Mix          233\n",
       "Border Collie Mix             229\n",
       "Australian Shepherd Mix       163\n",
       "Catahoula Mix                 157\n",
       "Rat Terrier Mix               157\n",
       "Name: Breed, dtype: int64"
      ]
     },
     "execution_count": 67,
     "metadata": {},
     "output_type": "execute_result"
    }
   ],
   "source": [
    "items_counts[to_my_breads]"
   ]
  },
  {
   "cell_type": "code",
   "execution_count": 68,
   "metadata": {},
   "outputs": [],
   "source": [
    "my_breeds = [\"Domestic Shorthair\", \"Chihuahua Shorthair\", \"Labrador Retriever\", \n",
    "             \"Domestic Medium Hair\", \"German Shepherd\", \"Domestic Longhair\", \"Siamese\", \"Australian Cattle Dog\", \n",
    "             \"Dachshund\", \"Miniature Poodle\", \"Border Collie\",\"Australian Shepherd\", \"Rat Terrier\", \"Catahoula\", \n",
    "              \"Husky\", \"Rottweiler\", \"Bulldog\", \"Pit Bull\", \"Boxer\"]"
   ]
  },
  {
   "cell_type": "code",
   "execution_count": 69,
   "metadata": {},
   "outputs": [],
   "source": [
    "import re\n",
    "def breeds(x):\n",
    "    x = str(x)\n",
    "    breed = \"other\"\n",
    "    for b in my_breeds:\n",
    "        if re.search(b, x):\n",
    "            breed = b\n",
    "    return breed\n",
    "all_data['My_Breeds'] = all_data.Breed.apply(breeds)"
   ]
  },
  {
   "cell_type": "code",
   "execution_count": 70,
   "metadata": {},
   "outputs": [],
   "source": [
    "breed_dummies = create_dummies(all_data[\"My_Breeds\"])\n",
    "all_data = pd.concat([all_data, breed_dummies], axis=1)\n",
    "del all_data[\"My_Breeds\"]\n",
    "del all_data[\"Breed\"]"
   ]
  },
  {
   "cell_type": "code",
   "execution_count": 71,
   "metadata": {},
   "outputs": [
    {
     "name": "stdout",
     "output_type": "stream",
     "text": [
      "['Name', 'DateTime', 'OutcomeType', 'AnimalType', 'AgeuponOutcome', 'Color', 'Day_of_Week', 'Hour_0', 'Hour_12and13', 'Hour_14and15', 'Hour_16and19', 'Hour_17and18', 'Hour_7and8', 'Hour_9', 'Hour_other_time', 'My_Breeds_Australian Cattle Dog', 'My_Breeds_Australian Shepherd', 'My_Breeds_Border Collie', 'My_Breeds_Boxer', 'My_Breeds_Bulldog', 'My_Breeds_Catahoula', 'My_Breeds_Chihuahua Shorthair', 'My_Breeds_Dachshund', 'My_Breeds_Domestic Longhair', 'My_Breeds_Domestic Medium Hair', 'My_Breeds_Domestic Shorthair', 'My_Breeds_German Shepherd', 'My_Breeds_Husky', 'My_Breeds_Labrador Retriever', 'My_Breeds_Miniature Poodle', 'My_Breeds_Pit Bull', 'My_Breeds_Rat Terrier', 'My_Breeds_Rottweiler', 'My_Breeds_Siamese', 'My_Breeds_other']\n"
     ]
    }
   ],
   "source": [
    "features = all_data.columns.tolist() \n",
    "print(features)"
   ]
  },
  {
   "cell_type": "code",
   "execution_count": 72,
   "metadata": {},
   "outputs": [],
   "source": [
    "features.remove(\"DateTime\")\n",
    "features.remove(\"OutcomeType\")\n",
    "features.remove(\"Color\")"
   ]
  },
  {
   "cell_type": "code",
   "execution_count": 73,
   "metadata": {},
   "outputs": [],
   "source": [
    "# random shift\n",
    "all_data = all_data.sample(frac=1)"
   ]
  },
  {
   "cell_type": "code",
   "execution_count": 74,
   "metadata": {},
   "outputs": [],
   "source": [
    "all_data.to_csv(\"dataset2.csv\")"
   ]
  }
 ],
 "metadata": {
  "kernelspec": {
   "display_name": "Python 3",
   "language": "python",
   "name": "python3"
  },
  "language_info": {
   "codemirror_mode": {
    "name": "ipython",
    "version": 3
   },
   "file_extension": ".py",
   "mimetype": "text/x-python",
   "name": "python",
   "nbconvert_exporter": "python",
   "pygments_lexer": "ipython3",
   "version": "3.7.1"
  }
 },
 "nbformat": 4,
 "nbformat_minor": 2
}
